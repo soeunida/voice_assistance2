{
 "cells": [
  {
   "cell_type": "code",
   "execution_count": 16,
   "source": [
    "# !pip install SpeechRecognition\r\n",
    "import speech_recognition as sr\r\n",
    "import pyttsx3"
   ],
   "outputs": [],
   "metadata": {}
  },
  {
   "cell_type": "code",
   "execution_count": 10,
   "source": [
    "def transform():\r\n",
    "    r = sr.Recognizer()\r\n",
    "    with sr.Microphone() as source:\r\n",
    "        r.pase_threshold = 0.8\r\n",
    "        said = r.listen(source)\r\n",
    "        try:\r\n",
    "            print(\"제가 들은 말씀입니다!\")\r\n",
    "            q = r.recognize_google(said, language=\"ko\")\r\n",
    "            return q\r\n",
    "        except sr.UnknownValueError:\r\n",
    "            print(\"이해를 잘 못했어요!\")\r\n",
    "            return \"이해를 잘 못했어요!\"\r\n",
    "        except sr.RequestError:\r\n",
    "            print(\"현재 서비스가 불가합니다!\")\r\n",
    "            return \"현재 서비스가 불가합니다!\"\r\n",
    "        except:\r\n",
    "            return \"대기중입니다.\""
   ],
   "outputs": [],
   "metadata": {}
  },
  {
   "cell_type": "code",
   "execution_count": 14,
   "source": [
    "transform()"
   ],
   "outputs": [
    {
     "output_type": "stream",
     "name": "stdout",
     "text": [
      "제가 들은 말씀입니다!\n"
     ]
    },
    {
     "output_type": "execute_result",
     "data": {
      "text/plain": [
       "'음성인식 재미 있으신가요'"
      ]
     },
     "metadata": {},
     "execution_count": 14
    }
   ],
   "metadata": {}
  },
  {
   "cell_type": "code",
   "execution_count": 15,
   "source": [
    "!pip install pyttsx3"
   ],
   "outputs": [
    {
     "output_type": "stream",
     "name": "stdout",
     "text": [
      "Collecting pyttsx3\n",
      "  Using cached pyttsx3-2.90-py3-none-any.whl (39 kB)\n",
      "Requirement already satisfied: pywin32 in .\\venv\\lib\\site-packages (from pyttsx3) (301)\n",
      "Collecting pypiwin32\n",
      "  Using cached pypiwin32-223-py3-none-any.whl (1.7 kB)\n",
      "Collecting comtypes\n",
      "  Using cached comtypes-1.1.10.tar.gz (145 kB)\n",
      "Using legacy 'setup.py install' for comtypes, since package 'wheel' is not installed.\n",
      "Installing collected packages: pypiwin32, comtypes, pyttsx3\n",
      "    Running setup.py install for comtypes: started\n",
      "    Running setup.py install for comtypes: finished with status 'done'\n",
      "Successfully installed comtypes-1.1.10 pypiwin32-223 pyttsx3-2.90\n"
     ]
    },
    {
     "output_type": "stream",
     "name": "stderr",
     "text": [
      "WARNING: You are using pip version 21.1.3; however, version 21.2.4 is available.\n",
      "You should consider upgrading via the 'c:\\workspace\\20210904\\venv\\scripts\\python.exe -m pip install --upgrade pip' command.\n"
     ]
    }
   ],
   "metadata": {}
  },
  {
   "cell_type": "code",
   "execution_count": 18,
   "source": [
    "def speaking(message):\r\n",
    "    engine = pyttsx3.init()\r\n",
    "    engine.say(message)\r\n",
    "    engine.runAndWait()"
   ],
   "outputs": [],
   "metadata": {}
  },
  {
   "cell_type": "code",
   "execution_count": 20,
   "source": [
    "speaking(\"네이버\")"
   ],
   "outputs": [],
   "metadata": {}
  },
  {
   "cell_type": "code",
   "execution_count": 31,
   "source": [
    "engine = pyttsx3.init()\r\n",
    "for voice in engine.getProperty(\"voices\"):\r\n",
    "    print(voice)"
   ],
   "outputs": [
    {
     "output_type": "stream",
     "name": "stdout",
     "text": [
      "<Voice id=HKEY_LOCAL_MACHINE\\SOFTWARE\\Microsoft\\Speech\\Voices\\Tokens\\TTS_MS_KO-KR_HEAMI_11.0\n",
      "          name=Microsoft Heami Desktop - Korean\n",
      "          languages=[]\n",
      "          gender=None\n",
      "          age=None>\n",
      "<Voice id=HKEY_LOCAL_MACHINE\\SOFTWARE\\Microsoft\\Speech\\Voices\\Tokens\\TTS_MS_EN-US_ZIRA_11.0\n",
      "          name=Microsoft Zira Desktop - English (United States)\n",
      "          languages=[]\n",
      "          gender=None\n",
      "          age=None>\n",
      "<Voice id=HKEY_LOCAL_MACHINE\\SOFTWARE\\Microsoft\\Speech\\Voices\\Tokens\\TTS_MS_JA-JP_HARUKA_11.0\n",
      "          name=Microsoft Haruka Desktop - Japanese\n",
      "          languages=[]\n",
      "          gender=None\n",
      "          age=None>\n",
      "<Voice id=HKEY_LOCAL_MACHINE\\SOFTWARE\\Microsoft\\Speech\\Voices\\Tokens\\TTS_MS_DE-DE_HEDDA_11.0\n",
      "          name=Microsoft Hedda Desktop - German\n",
      "          languages=[]\n",
      "          gender=None\n",
      "          age=None>\n"
     ]
    }
   ],
   "metadata": {}
  },
  {
   "cell_type": "code",
   "execution_count": 52,
   "source": [
    "id = \"HKEY_LOCAL_MACHINE\\SOFTWARE\\Microsoft\\Speech\\Voices\\Tokens\\TTS_MS_KO-KR_HEAMI_11.0\"\r\n",
    "engine.setProperty(\"voice\", id)\r\n",
    "engine.say(\"실습중입니다\")\r\n",
    "engine.runAndWait()"
   ],
   "outputs": [],
   "metadata": {}
  },
  {
   "cell_type": "code",
   "execution_count": 42,
   "source": [
    "import datetime"
   ],
   "outputs": [],
   "metadata": {}
  },
  {
   "cell_type": "code",
   "execution_count": 55,
   "source": [
    "def query_day():\r\n",
    "    day = datetime.date.today()\r\n",
    "    # print(day)\r\n",
    "    weekday = day.weekday()\r\n",
    "    # print(weekday)\r\n",
    "    mapping = {\r\n",
    "        0: \"월요일\",\r\n",
    "        1: \"화요일\",\r\n",
    "        2: \"수요일\",\r\n",
    "        3: \"목요일\",\r\n",
    "        4: \"금요일\",\r\n",
    "        5: \"토요일\",\r\n",
    "        6: \"일요일\",\r\n",
    "    }\r\n",
    "    # print(mapping[weekday])\r\n",
    "    try:\r\n",
    "        speaking(f\"오늘은 {mapping[weekday]}입니다. {mapping[weekday]}에도 수업받느냐고 고생이시네요!\")\r\n",
    "    except:\r\n",
    "        pass"
   ],
   "outputs": [],
   "metadata": {}
  },
  {
   "cell_type": "code",
   "execution_count": 56,
   "source": [
    "query_day()"
   ],
   "outputs": [],
   "metadata": {}
  },
  {
   "cell_type": "code",
   "execution_count": 57,
   "source": [
    "def query_time():\r\n",
    "    time = datetime.datetime.now().strftime(\"%I:%M:%S\")\r\n",
    "    speaking(f\"현재 시간은 {time[1]}시 {time[3:5]}분입니다.\")"
   ],
   "outputs": [],
   "metadata": {}
  },
  {
   "cell_type": "code",
   "execution_count": 60,
   "source": [
    "query_time()"
   ],
   "outputs": [],
   "metadata": {}
  },
  {
   "cell_type": "code",
   "execution_count": 61,
   "source": [
    "def whatsup():\r\n",
    "    speaking(\"\"\"\r\n",
    "    안녕하세요!\r\n",
    "    당신의 개인비서입니다!\r\n",
    "    무엇을 도와드릴까요?\r\n",
    "    \"\"\")"
   ],
   "outputs": [],
   "metadata": {}
  },
  {
   "cell_type": "code",
   "execution_count": 62,
   "source": [
    "whatsup()"
   ],
   "outputs": [],
   "metadata": {}
  },
  {
   "cell_type": "code",
   "execution_count": 73,
   "source": [
    "!pip install wikipedia"
   ],
   "outputs": [
    {
     "output_type": "stream",
     "name": "stdout",
     "text": [
      "Collecting wikipedia\n",
      "  Using cached wikipedia-1.4.0.tar.gz (27 kB)\n",
      "Collecting beautifulsoup4\n",
      "  Using cached beautifulsoup4-4.9.3-py3-none-any.whl (115 kB)\n",
      "Collecting requests<3.0.0,>=2.0.0\n",
      "  Using cached requests-2.26.0-py2.py3-none-any.whl (62 kB)\n",
      "Collecting charset-normalizer~=2.0.0\n",
      "  Using cached charset_normalizer-2.0.4-py3-none-any.whl (36 kB)\n",
      "Collecting certifi>=2017.4.17\n"
     ]
    },
    {
     "output_type": "stream",
     "name": "stderr",
     "text": [
      "WARNING: You are using pip version 21.1.3; however, version 21.2.4 is available.\n",
      "You should consider upgrading via the 'c:\\workspace\\20210904\\venv\\scripts\\python.exe -m pip install --upgrade pip' command.\n"
     ]
    },
    {
     "output_type": "stream",
     "name": "stdout",
     "text": [
      "  Using cached certifi-2021.5.30-py2.py3-none-any.whl (145 kB)\n",
      "Collecting idna<4,>=2.5\n",
      "  Using cached idna-3.2-py3-none-any.whl (59 kB)\n",
      "Collecting urllib3<1.27,>=1.21.1\n",
      "  Using cached urllib3-1.26.6-py2.py3-none-any.whl (138 kB)\n",
      "Collecting soupsieve>1.2\n",
      "  Using cached soupsieve-2.2.1-py3-none-any.whl (33 kB)\n",
      "Using legacy 'setup.py install' for wikipedia, since package 'wheel' is not installed.\n",
      "Installing collected packages: urllib3, soupsieve, idna, charset-normalizer, certifi, requests, beautifulsoup4, wikipedia\n",
      "    Running setup.py install for wikipedia: started\n",
      "    Running setup.py install for wikipedia: finished with status 'done'\n",
      "Successfully installed beautifulsoup4-4.9.3 certifi-2021.5.30 charset-normalizer-2.0.4 idna-3.2 requests-2.26.0 soupsieve-2.2.1 urllib3-1.26.6 wikipedia-1.4.0\n"
     ]
    }
   ],
   "metadata": {}
  },
  {
   "cell_type": "code",
   "execution_count": 76,
   "source": [
    "import webbrowser\r\n",
    "import wikipedia\r\n",
    "\r\n",
    "def querying():\r\n",
    "    whatsup()\r\n",
    "    start = True\r\n",
    "    while (True):\r\n",
    "        q = transform()\r\n",
    "        \r\n",
    "        if \"무슨 요일\" in q:\r\n",
    "            query_day()\r\n",
    "            continue\r\n",
    "        elif \"몇 시\" in q:\r\n",
    "            query_time()\r\n",
    "            continue\r\n",
    "        elif \"유튜브 시작\" in q:\r\n",
    "            speaking(\"유튜브를 시작하겠습니다. 잠시만 기다려주세요\")\r\n",
    "            webbrowser.open(\"https://www.youtube.com\")\r\n",
    "            continue\r\n",
    "        elif \"네이버 시작\" in q:\r\n",
    "            speaking(\"네이버를 시작하겠습니다. 잠시만 기다려주세요\")\r\n",
    "            webbrowser.open(\"https://www.naver.com\")\r\n",
    "            continue\r\n",
    "        elif \"이제 그만\" in q:\r\n",
    "            speaking(\"아쉽지만 다음에 또 뵙겠습니다\")\r\n",
    "            break\r\n",
    "        elif \"위키페디아\" in q:\r\n",
    "            speaking(\"위키페디아 검색\")\r\n",
    "            result = wikipedia.summary()\r\n",
    "            speaking(result)\r\n",
    "            continue        \r\n",
    "            "
   ],
   "outputs": [],
   "metadata": {}
  },
  {
   "cell_type": "code",
   "execution_count": 77,
   "source": [
    "querying()"
   ],
   "outputs": [
    {
     "output_type": "stream",
     "name": "stdout",
     "text": [
      "제가 들은 말씀입니다!\n",
      "제가 들은 말씀입니다!\n",
      "이해를 잘 못했어요!\n",
      "제가 들은 말씀입니다!\n"
     ]
    }
   ],
   "metadata": {}
  },
  {
   "cell_type": "code",
   "execution_count": null,
   "source": [],
   "outputs": [],
   "metadata": {}
  }
 ],
 "metadata": {
  "orig_nbformat": 4,
  "language_info": {
   "name": "python",
   "version": "3.9.6",
   "mimetype": "text/x-python",
   "codemirror_mode": {
    "name": "ipython",
    "version": 3
   },
   "pygments_lexer": "ipython3",
   "nbconvert_exporter": "python",
   "file_extension": ".py"
  },
  "kernelspec": {
   "name": "python3",
   "display_name": "Python 3.9.6 64-bit ('venv': venv)"
  },
  "interpreter": {
   "hash": "45296c0576c5cc7530661560ef48df3b1da650cee8316ac97ad76e2f2e7f1bb6"
  }
 },
 "nbformat": 4,
 "nbformat_minor": 2
}